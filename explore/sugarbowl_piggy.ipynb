{
 "cells": [
  {
   "cell_type": "code",
   "execution_count": 1,
   "id": "7b55184c-83ba-4caa-a860-e6cb8326b53a",
   "metadata": {
    "hideCode": false,
    "hidePrompt": false
   },
   "outputs": [],
   "source": [
    "from datetime import datetime\n",
    "from pathlib import Path\n",
    "from typing import Optional\n",
    "import warnings\n",
    "warnings.filterwarnings(\"ignore\")\n",
    "\n",
    "import matplotlib.pyplot as plt\n",
    "import numpy as np\n",
    "import pandas as pd\n",
    "import seaborn as sns\n",
    "from sklearn.cluster import KMeans\n",
    "from sklearn.feature_extraction.text import TfidfVectorizer\n",
    "from sklearn.metrics import classification_report\n",
    "from sklearn.model_selection import train_test_split\n",
    "from sklearn.naive_bayes import MultinomialNB\n",
    "from sklearn.svm import SVC\n",
    "from sklearn.tree import DecisionTreeClassifier\n",
    "from statsmodels.tsa.arima.model import ARIMA\n"
   ]
  },
  {
   "cell_type": "markdown",
   "id": "f8487b59-2a99-45d0-9aa9-109631b38250",
   "metadata": {
    "hideCode": false,
    "hidePrompt": false
   },
   "source": [
    "# Sugarbowl Exploratory page\n",
    "**Syracuse University IST736 Summer 2025 by La Monte Henry Piggy Yarroll and JJ Balasi**"
   ]
  },
  {
   "cell_type": "markdown",
   "id": "d4f0a319-762d-4fb8-b6aa-8409dd967951",
   "metadata": {
    "hideCode": false,
    "hidePrompt": false
   },
   "source": [
    "## Introduction"
   ]
  },
  {
   "cell_type": "markdown",
   "id": "edc779af-9403-409d-bf59-ccacf554bb95",
   "metadata": {
    "hideCode": false,
    "hidePrompt": false
   },
   "source": [
    "## Data"
   ]
  },
  {
   "cell_type": "code",
   "execution_count": 2,
   "id": "df9692af",
   "metadata": {
    "hideCode": false,
    "hidePrompt": false
   },
   "outputs": [
    {
     "name": "stdout",
     "output_type": "stream",
     "text": [
      "/home/piggy/src/github.com/piggyatbaqaqi/sugarbowl/explore\r\n"
     ]
    }
   ],
   "source": [
    "!pwd"
   ]
  },
  {
   "cell_type": "code",
   "execution_count": 3,
   "id": "4892642c",
   "metadata": {
    "hideCode": false,
    "hidePrompt": false
   },
   "outputs": [],
   "source": [
    "raw_data_path = Path('../data/La_Monte_Yarroll_glucose_7-20-2025.csv')\n",
    "raw_data = pd.read_csv(raw_data_path, header=1)"
   ]
  },
  {
   "cell_type": "code",
   "execution_count": 4,
   "id": "a8f47555",
   "metadata": {
    "hideCode": false,
    "hidePrompt": false
   },
   "outputs": [
    {
     "name": "stdout",
     "output_type": "stream",
     "text": [
      "<class 'pandas.core.frame.DataFrame'>\n",
      "RangeIndex: 124907 entries, 0 to 124906\n",
      "Data columns (total 19 columns):\n",
      " #   Column                            Non-Null Count   Dtype  \n",
      "---  ------                            --------------   -----  \n",
      " 0   Device                            124907 non-null  object \n",
      " 1   Serial Number                     124907 non-null  object \n",
      " 2   Device Timestamp                  124907 non-null  object \n",
      " 3   Record Type                       124907 non-null  int64  \n",
      " 4   Historic Glucose mg/dL            106874 non-null  float64\n",
      " 5   Scan Glucose mg/dL                12610 non-null   float64\n",
      " 6   Non-numeric Rapid-Acting Insulin  0 non-null       float64\n",
      " 7   Rapid-Acting Insulin (units)      0 non-null       float64\n",
      " 8   Non-numeric Food                  0 non-null       float64\n",
      " 9   Carbohydrates (grams)             50 non-null      float64\n",
      " 10  Carbohydrates (servings)          0 non-null       float64\n",
      " 11  Non-numeric Long-Acting Insulin   0 non-null       float64\n",
      " 12  Long-Acting Insulin (units)       0 non-null       float64\n",
      " 13  Notes                             1874 non-null    object \n",
      " 14  Strip Glucose mg/dL               0 non-null       float64\n",
      " 15  Ketone mmol/L                     0 non-null       float64\n",
      " 16  Meal Insulin (units)              0 non-null       float64\n",
      " 17  Correction Insulin (units)        0 non-null       float64\n",
      " 18  User Change Insulin (units)       0 non-null       float64\n",
      "dtypes: float64(14), int64(1), object(4)\n",
      "memory usage: 18.1+ MB\n"
     ]
    }
   ],
   "source": [
    "raw_data.info()"
   ]
  },
  {
   "cell_type": "code",
   "execution_count": 5,
   "id": "37fa6ed4",
   "metadata": {
    "hideCode": false,
    "hidePrompt": false
   },
   "outputs": [],
   "source": [
    "data = raw_data[['Record Type', 'Serial Number', 'Historic Glucose mg/dL', 'Scan Glucose mg/dL', 'Carbohydrates (grams)', 'Notes']].copy()"
   ]
  },
  {
   "cell_type": "code",
   "execution_count": 6,
   "id": "7f5946dc",
   "metadata": {
    "hideCode": false,
    "hidePrompt": false
   },
   "outputs": [],
   "source": [
    "time_format = '%m-%d-%Y %H:%M %p'\n",
    "data.loc[:, 'timestamp'] = raw_data['Device Timestamp'].map(lambda t: datetime.strptime(t, time_format))\n",
    "data.sort_values(by='timestamp', ascending=True, inplace=True)"
   ]
  },
  {
   "cell_type": "code",
   "execution_count": 7,
   "id": "e95b32be",
   "metadata": {
    "hideCode": false,
    "hidePrompt": false
   },
   "outputs": [
    {
     "name": "stdout",
     "output_type": "stream",
     "text": [
      "<class 'pandas.core.frame.DataFrame'>\n",
      "Index: 124907 entries, 1 to 106819\n",
      "Data columns (total 7 columns):\n",
      " #   Column                  Non-Null Count   Dtype         \n",
      "---  ------                  --------------   -----         \n",
      " 0   Record Type             124907 non-null  int64         \n",
      " 1   Serial Number           124907 non-null  object        \n",
      " 2   Historic Glucose mg/dL  106874 non-null  float64       \n",
      " 3   Scan Glucose mg/dL      12610 non-null   float64       \n",
      " 4   Carbohydrates (grams)   50 non-null      float64       \n",
      " 5   Notes                   1874 non-null    object        \n",
      " 6   timestamp               124907 non-null  datetime64[ns]\n",
      "dtypes: datetime64[ns](1), float64(3), int64(1), object(2)\n",
      "memory usage: 7.6+ MB\n"
     ]
    }
   ],
   "source": [
    "data.info()"
   ]
  },
  {
   "cell_type": "code",
   "execution_count": 8,
   "id": "c3c12517",
   "metadata": {},
   "outputs": [
    {
     "name": "stdout",
     "output_type": "stream",
     "text": [
      "Number of meals: 1874\n"
     ]
    }
   ],
   "source": [
    "def get_meals(data: pd.DataFrame) -> pd.DataFrame:\n",
    "    retval = data[(data['Record Type'] == 6) & (data['Notes'] != '')\n",
    "                  & (data['Notes'].isna().map(lambda x: not x))]\n",
    "    return retval.reset_index(drop=True)\n",
    "meals = get_meals(data)\n",
    "print(f\"Number of meals: {len(meals)}\")"
   ]
  },
  {
   "cell_type": "code",
   "execution_count": 9,
   "id": "738620fa",
   "metadata": {
    "hideCode": false,
    "hidePrompt": false
   },
   "outputs": [
    {
     "data": {
      "image/png": "[encoded data removed]",
      "text/plain": [
       "<Figure size 640x480 with 1 Axes>"
      ]
     },
     "metadata": {},
     "output_type": "display_data"
    }
   ],
   "source": [
    "plt.plot(data['timestamp'], data['Historic Glucose mg/dL'])\n",
    "plt.show()"
   ]
  },
  {
   "cell_type": "code",
   "execution_count": 10,
   "id": "bc4bea62",
   "metadata": {},
   "outputs": [
    {
     "data": {
      "text/plain": [
       "Serial Number\n",
       "0e154b86-bf50-4004-9ddb-123beeb2e7c4    124900\n",
       "22c6a4d9-071c-476f-b04b-3d6ea3761356         6\n",
       "a67a800c-57e1-46c9-b156-804a3a3f702a         1\n",
       "Name: count, dtype: int64"
      ]
     },
     "execution_count": 10,
     "metadata": {},
     "output_type": "execute_result"
    }
   ],
   "source": [
    "data['Serial Number'].value_counts()"
   ]
  },
  {
   "cell_type": "code",
   "execution_count": 11,
   "id": "fb7e2786",
   "metadata": {},
   "outputs": [
    {
     "name": "stdout",
     "output_type": "stream",
     "text": [
      "DEBUG: 5423\n"
     ]
    }
   ],
   "source": [
    "# Define potential glucose columns and keep only those that exist\n",
    "glucose_columns = [col for col in ['Scan Glucose mg/dL', 'Historic Glucose mg/dL', 'Strip Glucose mg/dL'] if col in data.columns]\n",
    "\n",
    "# Use backfill to combine available glucose readings\n",
    "data['glucose'] = data[glucose_columns].bfill(axis=1).iloc[:, 0]\n",
    "\n",
    "print(f\"DEBUG: {data['glucose'].isna().sum()}\")"
   ]
  },
  {
   "cell_type": "code",
   "execution_count": 23,
   "id": "5805bed3",
   "metadata": {
    "hideCode": false,
    "hidePrompt": false
   },
   "outputs": [],
   "source": [
    "DURATION = pd.Timedelta(hours=2)\n",
    "MIN_RECORD_PCT = 0.90\n",
    "DURATION_INCREMENT = pd.Timedelta(minutes=5)\n",
    "MIN_DURATION_COUNT = int(MIN_RECORD_PCT * DURATION / DURATION_INCREMENT)\n",
    "def glycemic_increment(data: pd.DataFrame, when: pd.Timestamp) -> Optional[np.float64]:\n",
    "    '''Calculate the glycemic increment starting at when.\n",
    "    \n",
    "    We assume that data contains only records with valid glucose values.\n",
    "    \n",
    "    This version does not compensate for additional meals in the same interval.\n",
    "    \n",
    "    Returns mg*seconds/dL, or None if there is insufficient data.\n",
    "    '''\n",
    "    # Calculate the end.\n",
    "    end = when + DURATION\n",
    "    # Find the start.\n",
    "    i = (data['timestamp'] >= when).idxmax()\n",
    "    if data['timestamp'][i] < when:\n",
    "        print(f\"DEBUG: Ran off end looking for start: {when}\")\n",
    "        return None  # We ran off the end\n",
    "    # Extract the region.\n",
    "    j = (data['timestamp'] >= end).idxmax()\n",
    "    if j == 0:\n",
    "        print(\"DEBUG: Ran off end looking for end: {end}\")\n",
    "        return None  # We ran off the end.\n",
    "    \n",
    "    if (j - i) < MIN_DURATION_COUNT:\n",
    "        # print(f\"DEBUG: Not enough records: (j: {j} - i: {i}) = {j - i} < {MIN_DURATION_COUNT}\")\n",
    "        return None  # There aren't enough records\n",
    "    \n",
    "    total = 0\n",
    "    prev = data.iloc[i]\n",
    "    first = prev\n",
    "    for c in range(i, j):\n",
    "        current = data.iloc[c]\n",
    "        total += ((current['timestamp'] - prev['timestamp']).total_seconds()\n",
    "                  * (current['glucose'] - first['glucose']))\n",
    "        prev = current\n",
    "\n",
    "    return total\n",
    "        "
   ]
  },
  {
   "cell_type": "code",
   "execution_count": 20,
   "id": "f8c71389",
   "metadata": {},
   "outputs": [
    {
     "data": {
      "text/html": [
       "<div>\n",
       "<style scoped>\n",
       "    .dataframe tbody tr th:only-of-type {\n",
       "        vertical-align: middle;\n",
       "    }\n",
       "\n",
       "    .dataframe tbody tr th {\n",
       "        vertical-align: top;\n",
       "    }\n",
       "\n",
       "    .dataframe thead th {\n",
       "        text-align: right;\n",
       "    }\n",
       "</style>\n",
       "<table border=\"1\" class=\"dataframe\">\n",
       "  <thead>\n",
       "    <tr style=\"text-align: right;\">\n",
       "      <th></th>\n",
       "      <th>Record Type</th>\n",
       "      <th>Serial Number</th>\n",
       "      <th>Historic Glucose mg/dL</th>\n",
       "      <th>Scan Glucose mg/dL</th>\n",
       "      <th>Carbohydrates (grams)</th>\n",
       "      <th>Notes</th>\n",
       "      <th>timestamp</th>\n",
       "      <th>glucose</th>\n",
       "    </tr>\n",
       "  </thead>\n",
       "  <tbody>\n",
       "    <tr>\n",
       "      <th>0</th>\n",
       "      <td>0</td>\n",
       "      <td>0e154b86-bf50-4004-9ddb-123beeb2e7c4</td>\n",
       "      <td>180.0</td>\n",
       "      <td>NaN</td>\n",
       "      <td>NaN</td>\n",
       "      <td>NaN</td>\n",
       "      <td>2024-06-24 01:02:00</td>\n",
       "      <td>180.0</td>\n",
       "    </tr>\n",
       "    <tr>\n",
       "      <th>1</th>\n",
       "      <td>0</td>\n",
       "      <td>0e154b86-bf50-4004-9ddb-123beeb2e7c4</td>\n",
       "      <td>176.0</td>\n",
       "      <td>NaN</td>\n",
       "      <td>NaN</td>\n",
       "      <td>NaN</td>\n",
       "      <td>2024-06-24 01:07:00</td>\n",
       "      <td>176.0</td>\n",
       "    </tr>\n",
       "    <tr>\n",
       "      <th>2</th>\n",
       "      <td>0</td>\n",
       "      <td>0e154b86-bf50-4004-9ddb-123beeb2e7c4</td>\n",
       "      <td>180.0</td>\n",
       "      <td>NaN</td>\n",
       "      <td>NaN</td>\n",
       "      <td>NaN</td>\n",
       "      <td>2024-06-24 01:12:00</td>\n",
       "      <td>180.0</td>\n",
       "    </tr>\n",
       "    <tr>\n",
       "      <th>3</th>\n",
       "      <td>0</td>\n",
       "      <td>0e154b86-bf50-4004-9ddb-123beeb2e7c4</td>\n",
       "      <td>181.0</td>\n",
       "      <td>NaN</td>\n",
       "      <td>NaN</td>\n",
       "      <td>NaN</td>\n",
       "      <td>2024-06-24 01:17:00</td>\n",
       "      <td>181.0</td>\n",
       "    </tr>\n",
       "    <tr>\n",
       "      <th>4</th>\n",
       "      <td>0</td>\n",
       "      <td>0e154b86-bf50-4004-9ddb-123beeb2e7c4</td>\n",
       "      <td>173.0</td>\n",
       "      <td>NaN</td>\n",
       "      <td>NaN</td>\n",
       "      <td>NaN</td>\n",
       "      <td>2024-06-24 01:22:00</td>\n",
       "      <td>173.0</td>\n",
       "    </tr>\n",
       "    <tr>\n",
       "      <th>...</th>\n",
       "      <td>...</td>\n",
       "      <td>...</td>\n",
       "      <td>...</td>\n",
       "      <td>...</td>\n",
       "      <td>...</td>\n",
       "      <td>...</td>\n",
       "      <td>...</td>\n",
       "      <td>...</td>\n",
       "    </tr>\n",
       "    <tr>\n",
       "      <th>119479</th>\n",
       "      <td>0</td>\n",
       "      <td>0e154b86-bf50-4004-9ddb-123beeb2e7c4</td>\n",
       "      <td>133.0</td>\n",
       "      <td>NaN</td>\n",
       "      <td>NaN</td>\n",
       "      <td>NaN</td>\n",
       "      <td>2025-07-20 12:46:00</td>\n",
       "      <td>133.0</td>\n",
       "    </tr>\n",
       "    <tr>\n",
       "      <th>119480</th>\n",
       "      <td>0</td>\n",
       "      <td>0e154b86-bf50-4004-9ddb-123beeb2e7c4</td>\n",
       "      <td>133.0</td>\n",
       "      <td>NaN</td>\n",
       "      <td>NaN</td>\n",
       "      <td>NaN</td>\n",
       "      <td>2025-07-20 12:51:00</td>\n",
       "      <td>133.0</td>\n",
       "    </tr>\n",
       "    <tr>\n",
       "      <th>119481</th>\n",
       "      <td>0</td>\n",
       "      <td>0e154b86-bf50-4004-9ddb-123beeb2e7c4</td>\n",
       "      <td>103.0</td>\n",
       "      <td>NaN</td>\n",
       "      <td>NaN</td>\n",
       "      <td>NaN</td>\n",
       "      <td>2025-07-20 12:51:00</td>\n",
       "      <td>103.0</td>\n",
       "    </tr>\n",
       "    <tr>\n",
       "      <th>119482</th>\n",
       "      <td>0</td>\n",
       "      <td>0e154b86-bf50-4004-9ddb-123beeb2e7c4</td>\n",
       "      <td>104.0</td>\n",
       "      <td>NaN</td>\n",
       "      <td>NaN</td>\n",
       "      <td>NaN</td>\n",
       "      <td>2025-07-20 12:56:00</td>\n",
       "      <td>104.0</td>\n",
       "    </tr>\n",
       "    <tr>\n",
       "      <th>119483</th>\n",
       "      <td>0</td>\n",
       "      <td>0e154b86-bf50-4004-9ddb-123beeb2e7c4</td>\n",
       "      <td>131.0</td>\n",
       "      <td>NaN</td>\n",
       "      <td>NaN</td>\n",
       "      <td>NaN</td>\n",
       "      <td>2025-07-20 12:56:00</td>\n",
       "      <td>131.0</td>\n",
       "    </tr>\n",
       "  </tbody>\n",
       "</table>\n",
       "<p>119484 rows × 8 columns</p>\n",
       "</div>"
      ],
      "text/plain": [
       "        Record Type                         Serial Number  \\\n",
       "0                 0  0e154b86-bf50-4004-9ddb-123beeb2e7c4   \n",
       "1                 0  0e154b86-bf50-4004-9ddb-123beeb2e7c4   \n",
       "2                 0  0e154b86-bf50-4004-9ddb-123beeb2e7c4   \n",
       "3                 0  0e154b86-bf50-4004-9ddb-123beeb2e7c4   \n",
       "4                 0  0e154b86-bf50-4004-9ddb-123beeb2e7c4   \n",
       "...             ...                                   ...   \n",
       "119479            0  0e154b86-bf50-4004-9ddb-123beeb2e7c4   \n",
       "119480            0  0e154b86-bf50-4004-9ddb-123beeb2e7c4   \n",
       "119481            0  0e154b86-bf50-4004-9ddb-123beeb2e7c4   \n",
       "119482            0  0e154b86-bf50-4004-9ddb-123beeb2e7c4   \n",
       "119483            0  0e154b86-bf50-4004-9ddb-123beeb2e7c4   \n",
       "\n",
       "        Historic Glucose mg/dL  Scan Glucose mg/dL  Carbohydrates (grams)  \\\n",
       "0                        180.0                 NaN                    NaN   \n",
       "1                        176.0                 NaN                    NaN   \n",
       "2                        180.0                 NaN                    NaN   \n",
       "3                        181.0                 NaN                    NaN   \n",
       "4                        173.0                 NaN                    NaN   \n",
       "...                        ...                 ...                    ...   \n",
       "119479                   133.0                 NaN                    NaN   \n",
       "119480                   133.0                 NaN                    NaN   \n",
       "119481                   103.0                 NaN                    NaN   \n",
       "119482                   104.0                 NaN                    NaN   \n",
       "119483                   131.0                 NaN                    NaN   \n",
       "\n",
       "       Notes           timestamp  glucose  \n",
       "0        NaN 2024-06-24 01:02:00    180.0  \n",
       "1        NaN 2024-06-24 01:07:00    176.0  \n",
       "2        NaN 2024-06-24 01:12:00    180.0  \n",
       "3        NaN 2024-06-24 01:17:00    181.0  \n",
       "4        NaN 2024-06-24 01:22:00    173.0  \n",
       "...      ...                 ...      ...  \n",
       "119479   NaN 2025-07-20 12:46:00    133.0  \n",
       "119480   NaN 2025-07-20 12:51:00    133.0  \n",
       "119481   NaN 2025-07-20 12:51:00    103.0  \n",
       "119482   NaN 2025-07-20 12:56:00    104.0  \n",
       "119483   NaN 2025-07-20 12:56:00    131.0  \n",
       "\n",
       "[119484 rows x 8 columns]"
      ]
     },
     "execution_count": 20,
     "metadata": {},
     "output_type": "execute_result"
    }
   ],
   "source": [
    "glucose_data = data.dropna(subset=['glucose']).copy().reset_index(drop=True)\n",
    "glucose_data['glucose'] = pd.to_numeric(glucose_data['glucose'], errors='coerce')\n",
    "glucose_data"
   ]
  },
  {
   "cell_type": "code",
   "execution_count": 25,
   "id": "cf51618f",
   "metadata": {},
   "outputs": [
    {
     "name": "stdout",
     "output_type": "stream",
     "text": [
      "incomplete increments: 143\n"
     ]
    }
   ],
   "source": [
    "increments = meals.apply(lambda d: glycemic_increment(glucose_data, d['timestamp']), axis=1)   \n",
    "# glycemic_increment(glucose_data, meals['timestamp'][10])\n",
    "print(f\"incomplete increments: {increments.isna().sum()}\")\n",
    "meals['increment'] = increments"
   ]
  },
  {
   "cell_type": "code",
   "execution_count": 26,
   "id": "884eb3d5",
   "metadata": {},
   "outputs": [
    {
     "data": {
      "text/plain": [
       "<matplotlib.collections.PathCollection at 0x7671bfcc1640>"
      ]
     },
     "execution_count": 26,
     "metadata": {},
     "output_type": "execute_result"
    },
    {
     "data": {
      "image/png": "[encoded data removed]",
      "text/plain": [
       "<Figure size 640x480 with 1 Axes>"
      ]
     },
     "metadata": {},
     "output_type": "display_data"
    }
   ],
   "source": [
    "plt.scatter(meals['timestamp'], meals['increment'])"
   ]
  },
  {
   "cell_type": "markdown",
   "id": "a3a41a85-191a-4623-a21e-4332d5e261d4",
   "metadata": {
    "hideCode": false,
    "hidePrompt": false
   },
   "source": [
    "## Methods and Models"
   ]
  },
  {
   "cell_type": "markdown",
   "id": "1ea3bb62-d4c1-4774-bf50-9d6f940367ac",
   "metadata": {
    "hideCode": false,
    "hidePrompt": false
   },
   "source": [
    "## Experimental Design and Investigation Strategy"
   ]
  },
  {
   "cell_type": "markdown",
   "id": "16b29a2d-3dfa-4d24-b584-6d8f9a3cf2b0",
   "metadata": {
    "hideCode": false,
    "hidePrompt": false
   },
   "source": [
    "## Results and Observations"
   ]
  },
  {
   "cell_type": "markdown",
   "id": "292ede2f-1dc4-45fd-938c-83f2b4c62878",
   "metadata": {
    "hideCode": false,
    "hidePrompt": false
   },
   "source": [
    "## Conclusions"
   ]
  },
  {
   "cell_type": "markdown",
   "id": "b83f718a-0070-46d3-a450-275e7a46535b",
   "metadata": {
    "hideCode": false,
    "hidePrompt": false
   },
   "source": [
    "## Appendix"
   ]
  },
  {
   "cell_type": "markdown",
   "id": "5405c290-570b-43f9-8da9-734efa7b800f",
   "metadata": {
    "hideCode": false,
    "hidePrompt": false
   },
   "source": [
    "## Bibliography"
   ]
  }
 ],
 "metadata": {
  "celltoolbar": "Hide code",
  "hide_code_all_hidden": false,
  "kernelspec": {
   "display_name": "Python 3 (ipykernel)",
   "language": "python",
   "name": "python3"
  },
  "language_info": {
   "codemirror_mode": {
    "name": "ipython",
    "version": 3
   },
   "file_extension": ".py",
   "mimetype": "text/x-python",
   "name": "python",
   "nbconvert_exporter": "python",
   "pygments_lexer": "ipython3",
   "version": "3.12.11"
  }
 },
 "nbformat": 4,
 "nbformat_minor": 5
}
