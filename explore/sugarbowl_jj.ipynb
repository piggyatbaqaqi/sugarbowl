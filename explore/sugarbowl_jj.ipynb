{
 "cells": [
  {
   "cell_type": "code",
   "execution_count": 16,
   "id": "7b55184c-83ba-4caa-a860-e6cb8326b53a",
   "metadata": {
    "hideCode": false,
    "hidePrompt": false
   },
   "outputs": [],
   "source": [
    "from datetime import datetime\n",
    "from pathlib import Path\n",
    "\n",
    "import matplotlib.pyplot as plt\n",
    "import numpy as np\n",
    "import pandas as pd\n",
    "from sklearn.naive_bayes import MultinomialNB\n"
   ]
  },
  {
   "cell_type": "markdown",
   "id": "f8487b59-2a99-45d0-9aa9-109631b38250",
   "metadata": {
    "hideCode": false,
    "hidePrompt": false
   },
   "source": [
    "# Sugarbowl Exploratory page\n",
    "**Syracuse University IST736 Summer 2025 by La Monte Henry Piggy Yarroll and JJ Balasi**"
   ]
  },
  {
   "cell_type": "markdown",
   "id": "d4f0a319-762d-4fb8-b6aa-8409dd967951",
   "metadata": {
    "hideCode": false,
    "hidePrompt": false
   },
   "source": [
    "## Introduction"
   ]
  },
  {
   "cell_type": "markdown",
   "id": "edc779af-9403-409d-bf59-ccacf554bb95",
   "metadata": {
    "hideCode": false,
    "hidePrompt": false
   },
   "source": [
    "## Data"
   ]
  },
  {
   "cell_type": "code",
   "execution_count": 2,
   "id": "df9692af",
   "metadata": {
    "hideCode": false,
    "hidePrompt": false
   },
   "outputs": [
    {
     "name": "stdout",
     "output_type": "stream",
     "text": [
      "/home/piggy/src/github.com/piggyatbaqaqi/sugarbowl/explore\r\n"
     ]
    }
   ],
   "source": [
    "!pwd"
   ]
  },
  {
   "cell_type": "code",
   "execution_count": 4,
   "id": "4892642c",
   "metadata": {
    "hideCode": false,
    "hidePrompt": false
   },
   "outputs": [
    {
     "name": "stderr",
     "output_type": "stream",
     "text": [
      "/tmp/ipykernel_450650/1235684874.py:2: DtypeWarning: Columns (13) have mixed types. Specify dtype option on import or set low_memory=False.\n",
      "  raw_data = pd.read_csv(raw_data_path, header=1)\n"
     ]
    }
   ],
   "source": [
    "raw_data_path = Path('../data/La_Monte_Yarroll_glucose_7-20-2025.csv')\n",
    "raw_data = pd.read_csv(raw_data_path, header=1)"
   ]
  },
  {
   "cell_type": "code",
   "execution_count": 5,
   "id": "a8f47555",
   "metadata": {
    "hideCode": false,
    "hidePrompt": false
   },
   "outputs": [
    {
     "name": "stdout",
     "output_type": "stream",
     "text": [
      "<class 'pandas.core.frame.DataFrame'>\n",
      "RangeIndex: 124907 entries, 0 to 124906\n",
      "Data columns (total 19 columns):\n",
      " #   Column                            Non-Null Count   Dtype  \n",
      "---  ------                            --------------   -----  \n",
      " 0   Device                            124907 non-null  object \n",
      " 1   Serial Number                     124907 non-null  object \n",
      " 2   Device Timestamp                  124907 non-null  object \n",
      " 3   Record Type                       124907 non-null  int64  \n",
      " 4   Historic Glucose mg/dL            106874 non-null  float64\n",
      " 5   Scan Glucose mg/dL                12610 non-null   float64\n",
      " 6   Non-numeric Rapid-Acting Insulin  0 non-null       float64\n",
      " 7   Rapid-Acting Insulin (units)      0 non-null       float64\n",
      " 8   Non-numeric Food                  0 non-null       float64\n",
      " 9   Carbohydrates (grams)             50 non-null      float64\n",
      " 10  Carbohydrates (servings)          0 non-null       float64\n",
      " 11  Non-numeric Long-Acting Insulin   0 non-null       float64\n",
      " 12  Long-Acting Insulin (units)       0 non-null       float64\n",
      " 13  Notes                             1874 non-null    object \n",
      " 14  Strip Glucose mg/dL               0 non-null       float64\n",
      " 15  Ketone mmol/L                     0 non-null       float64\n",
      " 16  Meal Insulin (units)              0 non-null       float64\n",
      " 17  Correction Insulin (units)        0 non-null       float64\n",
      " 18  User Change Insulin (units)       0 non-null       float64\n",
      "dtypes: float64(14), int64(1), object(4)\n",
      "memory usage: 18.1+ MB\n"
     ]
    }
   ],
   "source": [
    "raw_data.info()"
   ]
  },
  {
   "cell_type": "code",
   "execution_count": 18,
   "id": "37fa6ed4",
   "metadata": {
    "hideCode": false,
    "hidePrompt": false
   },
   "outputs": [],
   "source": [
    "data = raw_data[['Record Type', 'Serial Number', 'Historic Glucose mg/dL', 'Scan Glucose mg/dL', 'Carbohydrates (grams)', 'Notes']].copy()"
   ]
  },
  {
   "cell_type": "code",
   "execution_count": 19,
   "id": "7f5946dc",
   "metadata": {
    "hideCode": false,
    "hidePrompt": false
   },
   "outputs": [],
   "source": [
    "time_format = '%m-%d-%Y %H:%M %p'\n",
    "data.loc[:, 'timestamp'] = raw_data['Device Timestamp'].map(lambda t: datetime.strptime(t, time_format))\n",
    "data.sort_values(by='timestamp', ascending=True, inplace=True)"
   ]
  },
  {
   "cell_type": "code",
   "execution_count": 24,
   "id": "e95b32be",
   "metadata": {
    "hideCode": false,
    "hidePrompt": false
   },
   "outputs": [
    {
     "name": "stdout",
     "output_type": "stream",
     "text": [
      "<class 'pandas.core.frame.DataFrame'>\n",
      "Index: 124907 entries, 1 to 106819\n",
      "Data columns (total 7 columns):\n",
      " #   Column                  Non-Null Count   Dtype         \n",
      "---  ------                  --------------   -----         \n",
      " 0   Record Type             124907 non-null  int64         \n",
      " 1   Serial Number           124907 non-null  object        \n",
      " 2   Historic Glucose mg/dL  106874 non-null  float64       \n",
      " 3   Scan Glucose mg/dL      12610 non-null   float64       \n",
      " 4   Carbohydrates (grams)   50 non-null      float64       \n",
      " 5   Notes                   1874 non-null    object        \n",
      " 6   timestamp               124907 non-null  datetime64[ns]\n",
      "dtypes: datetime64[ns](1), float64(3), int64(1), object(2)\n",
      "memory usage: 7.6+ MB\n"
     ]
    }
   ],
   "source": [
    "data.info()"
   ]
  },
  {
   "cell_type": "code",
   "execution_count": 17,
   "id": "738620fa",
   "metadata": {
    "hideCode": false,
    "hidePrompt": false
   },
   "outputs": [
    {
     "data": {
      "image/png": "[encoded data removed]",
      "text/plain": [
       "<Figure size 640x480 with 1 Axes>"
      ]
     },
     "metadata": {},
     "output_type": "display_data"
    }
   ],
   "source": [
    "plt.plot(data['timestamp'], data['Historic Glucose mg/dL'])\n",
    "plt.show()"
   ]
  },
  {
   "cell_type": "code",
   "execution_count": 25,
   "id": "bc4bea62",
   "metadata": {},
   "outputs": [
    {
     "data": {
      "text/plain": [
       "Serial Number\n",
       "0e154b86-bf50-4004-9ddb-123beeb2e7c4    124900\n",
       "22c6a4d9-071c-476f-b04b-3d6ea3761356         6\n",
       "a67a800c-57e1-46c9-b156-804a3a3f702a         1\n",
       "Name: count, dtype: int64"
      ]
     },
     "execution_count": 25,
     "metadata": {},
     "output_type": "execute_result"
    }
   ],
   "source": [
    "data['Serial Number'].value_counts()"
   ]
  },
  {
   "cell_type": "code",
   "execution_count": null,
   "id": "5805bed3",
   "metadata": {
    "hideCode": false,
    "hidePrompt": false
   },
   "outputs": [],
   "source": []
  },
  {
   "cell_type": "markdown",
   "id": "a3a41a85-191a-4623-a21e-4332d5e261d4",
   "metadata": {
    "hideCode": false,
    "hidePrompt": false
   },
   "source": [
    "## Methods and Models"
   ]
  },
  {
   "cell_type": "markdown",
   "id": "1ea3bb62-d4c1-4774-bf50-9d6f940367ac",
   "metadata": {
    "hideCode": false,
    "hidePrompt": false
   },
   "source": [
    "## Experimental Design and Investigation Strategy"
   ]
  },
  {
   "cell_type": "markdown",
   "id": "16b29a2d-3dfa-4d24-b584-6d8f9a3cf2b0",
   "metadata": {
    "hideCode": false,
    "hidePrompt": false
   },
   "source": [
    "## Results and Observations"
   ]
  },
  {
   "cell_type": "markdown",
   "id": "292ede2f-1dc4-45fd-938c-83f2b4c62878",
   "metadata": {
    "hideCode": false,
    "hidePrompt": false
   },
   "source": [
    "## Conclusions"
   ]
  },
  {
   "cell_type": "markdown",
   "id": "b83f718a-0070-46d3-a450-275e7a46535b",
   "metadata": {
    "hideCode": false,
    "hidePrompt": false
   },
   "source": [
    "## Appendix"
   ]
  },
  {
   "cell_type": "markdown",
   "id": "5405c290-570b-43f9-8da9-734efa7b800f",
   "metadata": {
    "hideCode": false,
    "hidePrompt": false
   },
   "source": [
    "## Bibliography"
   ]
  }
 ],
 "metadata": {
  "celltoolbar": "Hide code",
  "hide_code_all_hidden": false,
  "kernelspec": {
   "display_name": "Python 3 (ipykernel)",
   "language": "python",
   "name": "python3"
  },
  "language_info": {
   "codemirror_mode": {
    "name": "ipython",
    "version": 3
   },
   "file_extension": ".py",
   "mimetype": "text/x-python",
   "name": "python",
   "nbconvert_exporter": "python",
   "pygments_lexer": "ipython3",
   "version": "3.12.11"
  }
 },
 "nbformat": 4,
 "nbformat_minor": 5
}
